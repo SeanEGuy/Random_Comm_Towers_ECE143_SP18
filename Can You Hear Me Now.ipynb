{
 "cells": [
  {
   "cell_type": "markdown",
   "metadata": {},
   "source": [
    "# Background: Coverage Conundrum"
   ]
  },
  {
   "cell_type": "markdown",
   "metadata": {},
   "source": [
    "**Scenario**: A series of communication towers are being built. How will coverage improve?\n",
    "\n",
    "**Main Assumptions**:\n",
    "\n",
    "- The plot of land is a flat rectangle whose dimensions can be described by integer units.\n",
    "- Each tower is placed randomly and has a random range of coverage.\n",
    "- Each tower's coverage is also rectangular and has integer dimensions of the same uints.\n",
    "- If a tower is placed and overlaps a pre-existing tower's coverage, the new tower's coverage is reduced to its largest rectangle outside of the already covered range.\n",
    "\n"
   ]
  },
  {
   "cell_type": "markdown",
   "metadata": {},
   "source": [
    "**Programming Goals**\n",
    "1. Given a plot of land and a set number of towers, simulate the placement of towers and calculate their coverage.\n",
    "2. Given a plot of land, calculate the average number of towers necessary to completely cover the plot."
   ]
  },
  {
   "cell_type": "markdown",
   "metadata": {},
   "source": [
    "# Module Overview"
   ]
  },
  {
   "cell_type": "code",
   "execution_count": null,
   "metadata": {},
   "outputs": [],
   "source": []
  }
 ],
 "metadata": {
  "kernelspec": {
   "display_name": "Python 2",
   "language": "python",
   "name": "python2"
  },
  "language_info": {
   "codemirror_mode": {
    "name": "ipython",
    "version": 2
   },
   "file_extension": ".py",
   "mimetype": "text/x-python",
   "name": "python",
   "nbconvert_exporter": "python",
   "pygments_lexer": "ipython2",
   "version": "2.7.14"
  }
 },
 "nbformat": 4,
 "nbformat_minor": 2
}
