{
 "cells": [
  {
   "cell_type": "markdown",
   "metadata": {},
   "source": [
    "# Background: Coverage Conundrum"
   ]
  },
  {
   "cell_type": "markdown",
   "metadata": {},
   "source": [
    "**Scenario**: A series of communication towers are being built. How will coverage improve?\n",
    "\n",
    "**Main Assumptions**:\n",
    "\n",
    "- The plot of land is a flat rectangle whose dimensions can be described by integer units.\n",
    "- Each tower is placed randomly and has a random range of coverage.\n",
    "- Each tower's coverage is also rectangular and has integer dimensions of the same uints.\n",
    "- If a tower is placed and overlaps a pre-existing tower's coverage, the new tower's coverage is reduced to its largest rectangle outside of the already covered range.\n",
    "\n"
   ]
  },
  {
   "cell_type": "markdown",
   "metadata": {},
   "source": [
    "**Programming Goals**\n",
    "1. Given a plot of land and a set number of towers, simulate the placement of towers and calculate their coverage.\n",
    "2. Given a plot of land, calculate the average number of towers necessary to completely cover the plot."
   ]
  },
  {
   "cell_type": "markdown",
   "metadata": {},
   "source": [
    "# commtower.py Module Overview"
   ]
  },
  {
   "cell_type": "markdown",
   "metadata": {},
   "source": [
    "#### `plot_land(L,W)`"
   ]
  },
  {
   "cell_type": "markdown",
   "metadata": {},
   "source": [
    "Description: Generates a two-dimensional array of zeros of specified dimensions\n",
    "\n",
    "Module Required:\n",
    "- numpy, used to generate the array\n",
    "\n",
    "Inputs\n",
    "- *L* : type int >0, length of plot of land; translates into the number of rows in the array\n",
    "- *W* : type int >0, width of the plot of land; translates into the number of elements in each row\n",
    "\n",
    "Output\n",
    "- Numpy array of L*\\W zeros (32-bit integers) arranged in L rows and W columns.\n",
    "- 0 represents a 1 unit^2 sized area of land with no tower coverage. A non-zero value would indicate coverage.\n",
    "- This is important for establishing a starting point of the plot without any coverage and can be done iteratively if simulating the complete coverage process."
   ]
  },
  {
   "cell_type": "code",
   "execution_count": 1,
   "metadata": {},
   "outputs": [
    {
     "data": {
      "text/plain": [
       "array([[0, 0, 0, 0, 0],\n",
       "       [0, 0, 0, 0, 0],\n",
       "       [0, 0, 0, 0, 0]])"
      ]
     },
     "execution_count": 1,
     "metadata": {},
     "output_type": "execute_result"
    }
   ],
   "source": [
    "#Example\n",
    "import commtower as ct\n",
    "ct.plot_land(3,5)"
   ]
  },
  {
   "cell_type": "code",
   "execution_count": null,
   "metadata": {},
   "outputs": [],
   "source": []
  }
 ],
 "metadata": {
  "kernelspec": {
   "display_name": "Python 2",
   "language": "python",
   "name": "python2"
  },
  "language_info": {
   "codemirror_mode": {
    "name": "ipython",
    "version": 2
   },
   "file_extension": ".py",
   "mimetype": "text/x-python",
   "name": "python",
   "nbconvert_exporter": "python",
   "pygments_lexer": "ipython2",
   "version": "2.7.14"
  }
 },
 "nbformat": 4,
 "nbformat_minor": 2
}
