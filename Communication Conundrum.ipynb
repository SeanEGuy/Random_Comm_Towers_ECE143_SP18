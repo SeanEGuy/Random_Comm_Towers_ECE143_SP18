{
 "cells": [
  {
   "cell_type": "markdown",
   "metadata": {},
   "source": [
    "# Background"
   ]
  },
  {
   "cell_type": "markdown",
   "metadata": {},
   "source": [
    "**Scenario**: A series of communication towers are being built. How will coverage improve?\n",
    "\n",
    "**Main Assumptions**:\n",
    "\n",
    "- The plot of land is a flat rectangle whose dimensions can be described by integer units.\n",
    "- Each tower is placed randomly and has a random range of coverage.\n",
    "- Each tower's coverage is also rectangular and has integer dimensions of the same uints.\n",
    "- If a tower is placed and overlaps a pre-existing tower's coverage, the new tower's coverage is reduced to its largest rectangle outside of the already covered range.\n",
    "\n"
   ]
  },
  {
   "cell_type": "markdown",
   "metadata": {},
   "source": [
    "**Programming Goals**\n",
    "1. Given a plot of land and a set number of towers, simulate the placement of towers and calculate their coverage.\n",
    "2. Given a plot of land, calculate the average number of towers necessary to completely cover the plot."
   ]
  },
  {
   "cell_type": "markdown",
   "metadata": {},
   "source": [
    "**Note**: Use of this notebook requires that the numpy and matplotlib modules be available."
   ]
  },
  {
   "cell_type": "markdown",
   "metadata": {},
   "source": [
    "# Function Overview"
   ]
  },
  {
   "cell_type": "markdown",
   "metadata": {},
   "source": [
    "### `plot_land(L,W)`\n",
    "\n",
    "**Description:** Generates a two-dimensional array of zeros of specified dimensions\n",
    "\n",
    "**Additional Modules Called**\n",
    "- [`numpy.zeros()`](https://docs.scipy.org/doc/numpy-1.14.0/reference/generated/numpy.zeros.html), used to generate the array\n",
    "\n",
    "**Parameters**\n",
    "\n",
    "- **L:**\n",
    "    - *int, > 0*\n",
    "    - length of plot of land; translates into the number of rows in the array\n",
    "\n",
    "- **W:**\n",
    "    - *int, > 0*\n",
    "    - width of the plot of land; translates into the number of elements in each row\n",
    "\n",
    "**Output**\n",
    "- *ndarray*\n",
    "- Numpy array of zeros (32-bit integers) arranged in L rows and W columns.\n",
    "- \"0\" in the array represents a node which is a 1 unit$^2$ sized area of land with no tower coverage. A non-zero value would indicate coverage.\n",
    "- This is important for establishing a starting point of the plot without any coverage. This function can be done iteratively if simulating the process of completely covering a plot of land."
   ]
  },
  {
   "cell_type": "markdown",
   "metadata": {},
   "source": [
    "**Code**"
   ]
  },
  {
   "cell_type": "code",
   "execution_count": 5,
   "metadata": {},
   "outputs": [],
   "source": [
    "def plot_land(L, W):\n",
    "    '''\n",
    "    Given the dimensions, create a new plot of land that requires\n",
    "    coverage by communication towers.\n",
    "    \n",
    "    The module numpy must be available for this function to work.\n",
    "    \n",
    "    This function has two primary purposes. First it passes W and L, the\n",
    "    user inputs for width and length of the plot of land to be\n",
    "    populated with communication towers, through an assert statement.\n",
    "    This checks that W and L are positive (n>0) integers.\n",
    "    \n",
    "    Then the function imports the numpy module before generating a\n",
    "    two-dimensional array of zeros with L rows and W values in each row.\n",
    "    The zeros themselves are 32-bit integers.\n",
    "    \n",
    "    :@param W: int, horizontal dimension of plot\n",
    "    :@param L: int, vertical dimension of plot\n",
    "    :@return: ndrray, int, zeros representing no coverage\n",
    "    '''\n",
    "    for dimension in [W, L]:\n",
    "        assert isinstance(dimension, int) and bool(dimension > 0), \\\n",
    "               \"Plot dimensions must be positive integers.\"\n",
    "    \n",
    "    try:\n",
    "        import numpy\n",
    "    except:\n",
    "        print \"numpy module not found.\" #checking for numpy module\n",
    "    \n",
    "    import numpy as np\n",
    "    emptyPlot = np.zeros((L, W), dtype='int32') #generate output array\n",
    "    \n",
    "    return emptyPlot"
   ]
  },
  {
   "cell_type": "markdown",
   "metadata": {},
   "source": [
    "**How It Works**\n",
    "\n",
    "- First, the function passes W and L through an `assert` that checks that these dimensions are `int` types and are greater than 0.\n",
    "- The function also checks that numpy is available to import.\n",
    "- It then imports numpy and generates a plot of 0's, type `int32`, with the specified dimensions `L` and `W`. `L` becomes the number of rows, and `W` becomes the number of columns in the 2-D array.\n",
    "- This new plot is then returned as the output."
   ]
  },
  {
   "cell_type": "markdown",
   "metadata": {},
   "source": [
    "**Example and Visualization**"
   ]
  },
  {
   "cell_type": "code",
   "execution_count": 8,
   "metadata": {},
   "outputs": [
    {
     "name": "stdout",
     "output_type": "stream",
     "text": [
      "[[0 0 0 0 0]\n",
      " [0 0 0 0 0]\n",
      " [0 0 0 0 0]]\n"
     ]
    }
   ],
   "source": [
    "import commtower as ct\n",
    "myland = ct.plot_land(3,5) #generate an empty 3x5 plot with no coverage\n",
    "print myland"
   ]
  },
  {
   "cell_type": "markdown",
   "metadata": {},
   "source": [
    "____"
   ]
  },
  {
   "cell_type": "markdown",
   "metadata": {},
   "source": [
    "### `make_random_tower(plotArray)`\n",
    "\n",
    "**Description:** Generate an array with randomly generated, rectangular coverage within a given plot.\n",
    "\n",
    "**Additional Modules Called**\n",
    "- [`numpy`](https://docs.scipy.org/doc/numpy-1.14.0/reference/), used to generate and manipulate arrays\n",
    "- [`numpy.random.randint()`](https://docs.scipy.org/doc/numpy-1.14.0/reference/generated/numpy.random.randint.html#numpy.random.randint), used to sample from a discreet, uniform distribution\n",
    "- [`numpy.nditer()`](https://docs.scipy.org/doc/numpy/reference/generated/numpy.nditer.html), used to iterate element-wise over an array with access to multi-dimensional indices.\n",
    "\n",
    "**Parameters**\n",
    "- **plotArray**\n",
    "    - *ndarray*\n",
    "    - A numpy array containing only integers equivalent to 0 or 1. Values of each element are not important to this function.\n",
    "    - Represents the total area in which the tower coverage may be placed.\n",
    "\n",
    "**Output**\n",
    "- *ndarray*\n",
    "- 2-dimensional numpy array of the same dimensions as the input `plotArray`.\n",
    "- Will be composed of integers 0 or 1.\n",
    "- A value of 1 means that the node (a 1 unit$^2$ area of land) has coverage under the newly generated tower. 0 means that it does not.\n",
    "- Pre-existing coverage, as indicated by the input, is not considered."
   ]
  },
  {
   "cell_type": "markdown",
   "metadata": {},
   "source": [
    "**Code**"
   ]
  },
  {
   "cell_type": "code",
   "execution_count": 6,
   "metadata": {},
   "outputs": [],
   "source": [
    "def make_random_tower(plotArray):\n",
    "    '''\n",
    "    Generates a random rectangle representing one tower's coverage in a\n",
    "    given plot of land. Ignores rules of overlapping and trimming.\n",
    "    \n",
    "    :@param plotArray: ndarray, dimensions represent a plot of land\n",
    "    :@return: ndarray, plot with coverage mapped out\n",
    "    '''\n",
    "    import numpy as np #used for arrays and random integers\n",
    "    \n",
    "    assert isinstance(plotArray, np.ndarray), \\\n",
    "           \"Input must be a two-dimensional numpy array.\"\n",
    "           #check if a numpy array\n",
    "    assert bool(len(plotArray.shape) == 2), \\\n",
    "           \"Input must be a two-dimensional numpy array.\"\n",
    "           #check if 2-D\n",
    "    \n",
    "    L, W = plotArray.shape #save row number as L and cols as W\n",
    "    \n",
    "    rectW = list( np.random.randint(0, W, 2) )\n",
    "    rectL = list( np.random.randint(0, L, 2) )\n",
    "    #picks two values per dimension, determines range of length & width\n",
    "    rectW.sort()\n",
    "    rectL.sort()\n",
    "    #sort coordinates in an increasing order\n",
    "    \n",
    "    rectRange = tuple( rectL + rectW )\n",
    "    #Combine coords in pattern of (row1, row2, col1, col2)\n",
    "    assert bool(len(rectRange) == 4) #Checking shape of output\n",
    "    \n",
    "    rectPlot = plotArray * 0 #new zeros array; gets reactangle of one's\n",
    "    \n",
    "    iterPlot = np.nditer( \\\n",
    "               rectPlot, flags=['multi_index'], op_flags=['writeonly'])\n",
    "    #Make iterable version of input plot array\n",
    "    #Flag args provide multiple indices and permits writing in data\n",
    "    while not iterPlot.finished: #loop through each element in array\n",
    "        i,j = iterPlot.multi_index #save indices in i & j\n",
    "        if rectRange[0] <= i <= rectRange[1] \\\n",
    "           and rectRange[2] <= j <= rectRange[3]:\n",
    "            #testing for each position if in tower coverage\n",
    "            iterPlot[0] = 1 #If in range, change value to a one\n",
    "        iterPlot.iternext() #moves to next element in array\n",
    "    \n",
    "    assert bool(rectPlot.shape == plotArray.shape)\n",
    "    #final array output should be the same shape as the input\n",
    "    assert bool( 0 < np.sum(rectPlot) == \\\n",
    "           (rectRange[1]-rectRange[0] +1) \\\n",
    "           * (rectRange[3]-rectRange[2] +1) )\n",
    "    #check that the correct, non-zero area of coverage has been plotted\n",
    "    return rectPlot"
   ]
  },
  {
   "cell_type": "markdown",
   "metadata": {},
   "source": [
    "**How It Works**\n",
    "\n",
    "1. It `assert`s that the input variable is a 2-dimensional numpy array.\n",
    "2. Then it stores the dimensions of the array as `L` (number of rows) and `W` (number of columns).\n",
    "3. Using `numpy.random.randint()`, four coordinates are chosen to represent the coverage boundaries.\n",
    "    - This is done in two steps to get the length and width separately. \n",
    "    - The numpy module selects from a uniformly distributed, discreet distribution, so each possible value has an equal chance of getting selected.\n",
    "    - The range of possible results are set to be from 0 to L|W - 1. This range matches the indices of nodes available in the input array.\n",
    "    - To clarify, if both results are the same, then the coverage gets a width of one column. If they yield \"2\" and \"4\", then the resulting coverage is 3 columns wide across columns 2 thorugh 4.\n",
    "    - This is due to coverage being based on discreet nodes rather than boundaries or ranges along an axis.\n",
    "    - Additionally, this method as the benefit of never generating a rectangle of area 0. E.g. Coordinates $(0,0,0,0)$ would still have an area of 1, as it would cover the node at row index 0, column 0.\n",
    "4. The coordinates are ordered from smallest to greatest and concatenated into a single tuple.\n",
    "    - They are put in order of first row, last row, first column, last column.\n",
    "    - This makes it easier to refer to coordinates by their index in the tuple.\n",
    "5. A variable is called, `rectPlot`, which will store the plot of which nodes are covered by the randomly generated coordinates. It is the element-wise product of the input and 0, making it an array of 0's at first.\n",
    "6. Next `iterPlot` is made using `np.nditer()`. The `'multi_index'` flag makes the row and column index available, and `'writeonly'` lets it write into the original array `rectPlot`.\n",
    "    - The function iterates over each node in the array starting at index (0,0) going across columns then down rows.\n",
    "    - At each node, it checks whether the indices are within the row and column range of the randomly generated coordinates. comparisons are made with `<=` to achieve the behavior described above.\n",
    "    - Nodes within the range of coverage are converted to a value 1. Otherwise, they are left as 0.\n",
    "7. Afterwards, the `rectPlot` is checked for correct dimensions and non-zero coverage and `return`ed as the result."
   ]
  },
  {
   "cell_type": "markdown",
   "metadata": {},
   "source": [
    "**Example and Visualization** (I think I'll try to naturally work this into the How It Works Section when I get to being able to plot things nicely.)"
   ]
  },
  {
   "cell_type": "markdown",
   "metadata": {},
   "source": [
    "____"
   ]
  },
  {
   "cell_type": "markdown",
   "metadata": {},
   "source": [
    "### `remove_overlap(towerPlot, totalPlot)`\n",
    "\n",
    "**Description:** Compares the coverage from one randomly placed tower's coverage to the pre-existing coverage where the tower will be placed.\n",
    "\n",
    "**Additional Modules Called**\n",
    "- [`numpy`](https://docs.scipy.org/doc/numpy-1.14.0/reference/), used to generate and manipulate arrays\n",
    "- [`numpy.nditer()`](https://docs.scipy.org/doc/numpy/reference/generated/numpy.nditer.html), used to iterate element-wise over an array with access to multi-dimensional indices.\n",
    "- [`numpy.array_equal()`](https://docs.scipy.org/doc/numpy/reference/generated/numpy.array_equal.html), used to check whether two arrays are equivalent by element.\n",
    "\n",
    "**Parameters**\n",
    "- **towerPlot**\n",
    "    - *ndarray, int*\n",
    "    - A numpy array representing the coverage of a single tower.\n",
    "    - All nodes of 1 are within range and nodes of 0 are outside.\n",
    "- **totalPlot**\n",
    "    - *ndarray, int*\n",
    "    - A numpy array representing the pre-existing coverage within the entire plot of land.\n",
    "    - All nodes of 1 are within range of coverage and nodes of 0 are outside.\n",
    "\n",
    "**Output**\n",
    "- *ndarray, int*\n",
    "- A numpy array of 1's and 0's.\n",
    "- All nodes contianing 1 are within the coverage of the new tower and outside of the pre-existing coverage.\n"
   ]
  },
  {
   "cell_type": "markdown",
   "metadata": {},
   "source": [
    "**Code**"
   ]
  },
  {
   "cell_type": "code",
   "execution_count": 9,
   "metadata": {},
   "outputs": [],
   "source": [
    "def remove_overlap(towerPlot, totalPlot):\n",
    "    '''\n",
    "    Locate where a new tower range overlaps with pre-existing coverage.\n",
    "    \n",
    "    :@param towerPlot: ndarray, coverage for a random tower\n",
    "    :@param totalPlot: ndarray, pre-existing coverage in a plot\n",
    "    :@return: ndarray, new area covered by tower\n",
    "    '''\n",
    "    import numpy as np\n",
    "    \n",
    "    assert isinstance(towerPlot, np.ndarray), \\\n",
    "           \"Tower input not a numpy array\"\n",
    "    assert isinstance(totalPlot, np.ndarray), \\\n",
    "           \"Pre-existing plot input not a numpy array\"\n",
    "    assert bool(towerPlot.shape == totalPlot.shape), \\\n",
    "           \"Inputs must be the same dimensions\"\n",
    "    for coord in np.nditer(towerPlot):#loop thorugh each element\n",
    "        assert bool(coord == 0 or coord == 1), \\\n",
    "               \"Tower input array may only contain 0s or 1s\"\n",
    "    for coord in np.nditer(totalPlot): #loop thorugh each element\n",
    "        assert bool(coord == 0 or coord == 1), \\\n",
    "               \"Tower input array may only contain 0s or 1s\"\n",
    "    \n",
    "    if np.array_equal(totalPlot, np.zeros( totalPlot.shape )):\n",
    "        #compares input to same-dimension array of zeros\n",
    "        return towerPlot\n",
    "        #If there is no coverage already, just return the new coverage\n",
    "    else:\n",
    "        pass\n",
    "    \n",
    "    layerPlot = (towerPlot * 2) + totalPlot\n",
    "    #Layers the two plots together\n",
    "    #new coverage = 2, old coverage = 1, no coverage = 0, overlap = 3\n",
    "    \n",
    "    iterPlot = np.nditer( layerPlot, op_flags=['writeonly'] )\n",
    "    #lets the function iterate element-wise over the layer and rewrite\n",
    "    while not iterPlot.finished:\n",
    "        if iterPlot[0] == 2: #looks for new coverage\n",
    "            iterPlot[0] = 1 #new coverage is now 1\n",
    "        else:\n",
    "            iterPlot[0] = 0 #all pre-existing coverage becomes 0\n",
    "        iterPlot.iternext() #points to next element\n",
    "    \n",
    "    assert bool( np.sum(layerPlot) <= np.sum(towerPlot) )\n",
    "    #check that the layer does not exceed the size of the tower coverage\n",
    "    assert bool( layerPlot.shape == totalPlot.shape)\n",
    "    #check that the dimensions haven't changed\n",
    "    return layerPlot"
   ]
  },
  {
   "cell_type": "markdown",
   "metadata": {},
   "source": [
    "**How it Works**\n",
    "\n",
    "- The funciton `assert`s that both input parameters are numpy arrays of the same shape. Different shapes would mean that the inputs are describing two different plots of land.\n",
    "- Iterates through each element in the array and `assert`s that it is either integer 1 or 0.\n",
    "- Offers an early exit point: If there is no pre-existing coverage, then there is no overlap and the `towerPlot` is simply returned. Otherwise, it continues on.\n",
    "- Here, a new array, `layerPlot`, is made from the element-wise sum of the `totalPlot` (pre-existing coverage) and 2 * `towerPlot`. See table below for how this helps differentiate the between coverages.\n",
    "\n",
    "Equation: $layer = total + (tower * 2)$\n",
    "\n",
    "| Value in layerPlot | Value in towerPlot  | Value in totalPlot | \n",
    "|:---:|:---:|:---:| \n",
    "| 0 | 0 | 0 | \n",
    "| 1 | 0 | 1 | \n",
    "| 2 | 1 | 0 | \n",
    "| 3 | 1 | 1 | \n",
    "\n",
    "- We are interested in the 2's in `layerPlot` because these values are exclusively in the `towerPlot` and not the pre-existing `totalPlot`.\n",
    "    - `layerPlot` is made iterable with `numpy.nditer()` and then iterated through. The `'write_only'` flag lets the function edit the original `layerPlot` array.\n",
    "    - Each element that is equivalent to 2 is converted into 1. All remaining elements become 0.\n",
    "- As a result, `layerPlot` ends up with 1's in the nodes exclusively from the new tower and not in pre-existing coverage. The size and total sum of the array is compared to the tower input before it `return`s `layerPlot` as the final output."
   ]
  },
  {
   "cell_type": "markdown",
   "metadata": {},
   "source": [
    "____"
   ]
  },
  {
   "cell_type": "markdown",
   "metadata": {},
   "source": [
    "### `get_largest_rectangle(inPlot)`\n",
    "\n",
    "**Description:** \n",
    "\n",
    "**Additional Modules Called**\n",
    "- [`numpy`](https://docs.scipy.org/doc/numpy-1.14.0/reference/), used to generate and manipulate arrays\n",
    "- [`numpy.nditer()`](https://docs.scipy.org/doc/numpy/reference/generated/numpy.nditer.html), used to iterate element-wise over an array with access to multi-dimensional indices.\n",
    "- [`numpy.random.randint()`](https://docs.scipy.org/doc/numpy-1.14.0/reference/generated/numpy.random.randint.html#numpy.random.randint), used to sample from a discreet, uniform distribution\n",
    "\n",
    "**Parameters**\n",
    "- **inPlot**\n",
    "    - *ndarray, int*\n",
    "    - The 'input' plot. A numpy array consisting of 0's and 1's\n",
    "    - At this part in the solution, this is the coverage from a new tower trimmed by its overlap with pre-existing coverage. \n",
    "\n",
    "**Output**\n",
    "- *ndarray, int*\n",
    "- A numpy array representing the largest possible rectangular coverage within the coverage from `inPlot`.\n",
    "- If there are multiple rectangles that have the greatest possible area, will select from one of those."
   ]
  },
  {
   "cell_type": "markdown",
   "metadata": {},
   "source": [
    "**Code**"
   ]
  },
  {
   "cell_type": "code",
   "execution_count": 15,
   "metadata": {},
   "outputs": [],
   "source": [
    "def get_largest_rectangle(inPlot):\n",
    "    '''\n",
    "    Makes candidate rectangles inside of the input plot where coverage\n",
    "    is indicated. Finds and returns the largest one. Note that the\n",
    "    coverage has already been trimmed for overlap with pre-existing\n",
    "    towers.\n",
    "    \n",
    "    :@param inPlot: ndarray, original non-overlapping coverage\n",
    "    :@return: ndarray, larest rectangular coverage from inPlot\n",
    "    '''\n",
    "    import numpy as np\n",
    "    \n",
    "    #asserts go here\n",
    "    \n",
    "    rectList = [] #store arrays representing rectangles of coverage\n",
    "    \n",
    "    def sweep_from_corner(thePlot, r1, c1,transposed=False):\n",
    "        '''\n",
    "        Given a starting point, generate one rectangle sweeping right\n",
    "        then down and another sweeping down then right until they reach\n",
    "        the boundary of coverage.\n",
    "        \n",
    "        :@param inPlot: ndarray, original non-overlapping coverage\n",
    "        :@param r1: int, row index to start from\n",
    "        :@param c1: int, col index to start from\n",
    "        :@param transposed: bool, whether the input was transposed\n",
    "        '''\n",
    "        \n",
    "        length, width = thePlot.shape #dimensions as easy to read vars\n",
    "        c2 = c1 #last column is called; can increase from here\n",
    "        r2 = r1 #last row is called; can increase from here\n",
    "        \n",
    "        for i in range(c1, width):\n",
    "        #loop through column c1 to the right\n",
    "            if thePlot[r1][i] == 1:\n",
    "                c2 = i #assign column 2 as last successful column\n",
    "            else:\n",
    "                break #done once c2 is assigned\n",
    "        \n",
    "        for j in range(r1, length):\n",
    "        #loop thorugh each row\n",
    "            if 0 not in thePlot[j][c1:c2+1]:\n",
    "            #check for zeros in each row; the first should never fail\n",
    "                r2 = j #save the index of last successful row\n",
    "            else: #Do nothing for rows with 1\n",
    "                break\n",
    "        \n",
    "        outPlot = thePlot * 0 #new plot to add the new rectangle\n",
    "        iterOut = np.nditer(outPlot, \\\n",
    "                  flags=['multi_index'], op_flags=['writeonly'])\n",
    "        #iterate over each element and apply 1s in rectange range\n",
    "        while not iterOut.finished:\n",
    "            k,l = iterOut.multi_index\n",
    "            if r1 <= k <= r2 and c1 <= l <= c2:\n",
    "            #check if indices in range of r1-r2 & c1-c2\n",
    "                iterOut[0] = 1 #change to 1 if in coverage\n",
    "            else:\n",
    "                pass\n",
    "            iterOut.iternext()\n",
    "        \n",
    "        if transposed == True:\n",
    "            return np.transpose(outPlot)\n",
    "        else:\n",
    "            return outPlot\n",
    "    \n",
    "    itPlot = np.nditer(inPlot, flags=['multi_index'])\n",
    "    #make an iterable for inPlot with indices available\n",
    "    while not itPlot.finished:\n",
    "        if itPlot[0] == 1:\n",
    "        #finds each location in coverage from input\n",
    "            i,j = itPlot.multi_index\n",
    "            rectList.append( sweep_from_corner(inPlot, i, j) )\n",
    "            #making largest rectangle by going right then down\n",
    "            rectList.append( \\\n",
    "            sweep_from_corner(np.transpose(inPlot), j, i, True) )\n",
    "            #biggest rectangle sweeping down the right\n",
    "            #done by transposing the array at the start and end\n",
    "        itPlot.iternext()\n",
    "    \n",
    "    #rectList should now have all the largest rectangles in coverage\n",
    "    if len(rectList) == 0:\n",
    "        assert np.sum(inPlot) == 0, \"No rectangle found:\\n%s\\n\" % inPlot\n",
    "        #Gets empty list if input is only an array of zeros\n",
    "        return inPlot * 0\n",
    "        #returns an array of zeros if no rectangles found\n",
    "    else:\n",
    "        pass #keep going if there are rectangles\n",
    "    \n",
    "    largestRect = max(rectList, key=lambda rarray: np.sum(rarray))\n",
    "    #finding the largest rectangles by taking the sum of each array\n",
    "    assert bool(np.sum(largestRect) <= np.sum(inPlot))\n",
    "    #largest trim shouldn't be greater than the original coverage\n",
    "    \n",
    "    allLargest = [largestRect]\n",
    "    #listing all of the largest rectangles in case of ties\n",
    "    for bigRect in rectList:\n",
    "        if np.sum(bigRect) == np.sum(largestRect):\n",
    "        #compare coverage areas\n",
    "            allLargest.append(bigRect) #list it if it's just as big\n",
    "        else:\n",
    "            pass\n",
    "    randRect = allLargest[ np.random.randint(0,len(allLargest)) ]\n",
    "    #pick a random rectangle from the list to limit bias\n",
    "    \n",
    "    assert bool(randRect.shape == inPlot.shape), \"%s\" % (randRect)\n",
    "    #end result should still be the same dimensions as the start\n",
    "    assert (-1) not in (inPlot - randRect)\n",
    "    #ensures that newly trimmed coverage is within the original\n",
    "    return randRect"
   ]
  },
  {
   "cell_type": "markdown",
   "metadata": {},
   "source": [
    "**How It Works**\n",
    "\n",
    "1. `assert` that the input is an `ndarray` and that it only has 1's and 0's. (Need ot put it in still)\n",
    "2. Make `inPlot` iterable with `numpy.nditer()` and iterate through each element looking for points within the new tower's coverage (indicated by value of 1's).\n",
    "    - If the value is 0, do nothing.\n",
    "    - If the value is 1, feed the input plot and row, column indices to encapsulated function `sweep_from_corner()`\n",
    "    - Then feed `sweep_from_corner()` the transposed input plot with the row, column indices swapped. Include `True` input to inform the function that the plot has been transposed prior to putting it through the function.\n",
    "    - `sweep_from_corner()` yields the biggest rectangles with the starting point as its upper-left corner. Both results get stored in the list of candidate rectangles, `rectList`.\n",
    "3. How `sweep_from_corner()` generates plots of candidate rectangles.\n",
    "    - Its inputs are the `inPlot` from the main function (*ndarray*), a row index (*int*), column index (*int*), and  whether the input has been transposed (*bool*). The indices are used as the first row and column with the rectangle.\n",
    "    - This function is defined separately due to being called twice each time a starting corner is identified.\n",
    "    - Starting from the row and column index given, first it scans across the row by increasing index until it reaches the end or the zero. The last column with value 1 is recorded as the last column of the rectangle. * Note: It is possible that the same column is the first and last column.\n",
    "    - Then the function iterates down each row, checking whether its slice of the columns only contains 1's. The last row index for which this is true is saved as the last row of the rectangle.\n",
    "    - A new array of same dimensions as the input array is made. The function iterates through each element and places a 1 if it is within the column and row range of the rectangle; leaves a 0 otherwise.\n",
    "    - This new array is `return`ed as the output of the function. If transposed is `True`, it will transpose the array back to its original orientation.\n",
    "    - **Main Pro**: Limits the arrays that need to be saved to memory, as opposed to generating a set of all possible rectangles within the total plot area in a completely bottom-up approach.\n",
    "    - **Main Con**: Introduces more nested loops, increasing the number of steps to get to the solution.\n",
    "4. Once the list of all of the candidate rectangles is made, it is checked for length. If the length is 0, then an array of zeros is returned as the final output. This is done ot avoid feeding empty iterables to the upcoming `max()` function.\n",
    "5. The candidate with the largest coverage is picked by taking the sum over each array. More 1's means more coverage.\n",
    "6. It goes back into the list and looks for more arrays with the same area, since `max()` only yields one result. These are all saved into a new list, `allLargest`.\n",
    "7. From the list of `allLargest` rectangles, one is randomly chosen by index, picked by calling `numpy.random.randint()`. This is a uniform, discreet distribution, so each array has an equal chance of being chosen.\n",
    "8. A quick `assert` for dimensions and another checking that the coverage nodes in the output are a subset of the input.\n",
    "9. `return`s the final coverage plot for the tower, ready to be added into the plot of overall coverage."
   ]
  },
  {
   "cell_type": "markdown",
   "metadata": {},
   "source": [
    "### Illustrating `sweep_from_corner()`"
   ]
  },
  {
   "cell_type": "markdown",
   "metadata": {},
   "source": [
    "- Assume that we have a coverage plot array like the one below. This needs to get trimmed into a rectangular shape. \n",
    "\n",
    "```python\n",
    "array([[0, 0, 0, 0, 0],\n",
    "       [1, 1, 1, 1, 0],\n",
    "       [1, 1, 0, 0, 0],\n",
    "       [1, 1, 0, 0, 0]])\n",
    "```\n",
    "- Graphically, this can be visualized as such, where each element is at the inteersection of a gridline, yellow represents coverage, and the dark background has no coverage:\n",
    "\n",
    "![alt text](https://raw.githubusercontent.com/SeanEGuy/Random_Comm_Towers_ECE143_SP18/master/inputsim.png \"Sweep Input Example\")\n",
    "\n",
    "- The iterator looking for coverage points to feed into `sweep_from_corner()` starts at row, col index (0,0) (top-left corner of the grid) and moves to the right then down. Thus, the first coordinates to be fed into the encapsulated function will be (1,0).\n",
    "\n",
    "![alt text](https://raw.githubusercontent.com/SeanEGuy/Random_Comm_Towers_ECE143_SP18/master/firstcorner.png \"Designate where to sweep\")\n",
    "\n",
    "- The function then iterates moving to the right and stores the last value of one.\n",
    "\n",
    "![alt text](https://raw.githubusercontent.com/SeanEGuy/Random_Comm_Towers_ECE143_SP18/master/firstrow.png \"sweep first row\")\n",
    "\n",
    "- Next the function sweeps down rows, checking if there are any zeros. The row index 2 has zeros, so it saves this range as the first rectangle.\n",
    "- After the first rectangle, `sweep_from_corner()` is fed the same plot but transposed. This  ensures that all possible rectangles inside of the coverage plot can be accessed.\n",
    "- The transposed rectangle follows the same steps of sweeping right then down. The difference comes at the end where the `True` input tells `sweep_from_corner()` to transpose the array before `return`ing it as output. The graphs below illustrate the steps from left to right.\n",
    "\n",
    "**Steps:** *Transpose -> Sweep across Columns -> Sweep down Rows -> Transpose Back*\n",
    "\n",
    "![alt text](https://raw.githubusercontent.com/SeanEGuy/Random_Comm_Towers_ECE143_SP18/master/transposesteps.png \"Transposed steps\")\n",
    "\n",
    "- This process thus yields the two largest rectangles for a point inside of the coverage area.\n",
    "- The outer function `get_largest_rectangle()` handles applying the inner function to each node in the coverage to generate the list of candidate rectangles. This list is then fed into a `max()` function for the total sum of each array to identify the largest possible area.\n",
    "- Note: This method yields an empty list if the input is only 0's. If so, `get_largest_rectangle()` will just return an array of 0's."
   ]
  },
  {
   "cell_type": "markdown",
   "metadata": {},
   "source": [
    "____"
   ]
  },
  {
   "cell_type": "markdown",
   "metadata": {},
   "source": [
    "### `plot_ntowers(L, W, n=0)`\n",
    "\n",
    "**Description:** Given a plot of land, place towers randomly and monitor their coverage. Organizes other functions from this notebook to go straight from defining a total plot of land to the total coverage or towers used to cover it.\n",
    "\n",
    "**Additional Modules Called**\n",
    "- [`numpy.sum()`](https://docs.scipy.org/doc/numpy/reference/generated/numpy.sum.html), used to find the total coverage area (sum of each element valued either 0 or 1).\n",
    "- All preceding functions \\[`plot_land()`, `make_random_tower()`, `remove_overlap()`, `get_largest_rectangle()`\\] must have been defined in the kernel.\n",
    "\n",
    "**Parameters**\n",
    "- **L:**\n",
    "    - *int, > 0*\n",
    "    - length of plot of land; translates into the number of rows in the array\n",
    "\n",
    "- **W:**\n",
    "    - *int, > 0*\n",
    "    - width of the plot of land; translates into the number of elements in each row\n",
    "- **n:**\n",
    "    - *int, >= 0, default=0*\n",
    "    - The number of towers to place in the plot of land.\n",
    "    - If n=0, the place towers until until the plot is completely covered by the tower ranges.\n",
    "\n",
    "**Output**\n",
    "- If n>0, *tuple* with the total area covered (*int*) at index 0 and proportion of the area covered (*float* truncated to two places past the decimal) at index 1.\n",
    "- If n=0, returns the number of towers placed to cover the whole plot area (*int*)."
   ]
  },
  {
   "cell_type": "markdown",
   "metadata": {},
   "source": [
    "**Code**"
   ]
  },
  {
   "cell_type": "code",
   "execution_count": 12,
   "metadata": {},
   "outputs": [],
   "source": [
    "def plot_ntowers(L, W, n=0):\n",
    "    '''\n",
    "    Tracks coverage as towers are randmly placed in a designated plot of\n",
    "    land. Can calculate the coverage from n towers or count the number\n",
    "    of towers required to fill the plot completely.\n",
    "    \n",
    "    :@param plotLen: int, length of the plot; stored as rows in an array\n",
    "    :@param plotWidth: int, width of plot; stored as columns in an array\n",
    "    :@param n: int, towers built; if 0, will count towers to fill.\n",
    "    :@return: tuple, total area and proportion covered\n",
    "              OR\n",
    "              int, towers built to fill plot if n=0\n",
    "    '''\n",
    "    import numpy as np\n",
    "    \n",
    "    #assert\n",
    "    \n",
    "    mainPlot = plot_land(L,W) #generate the empty plot\n",
    "    totalArea = L * W\n",
    "    \n",
    "    nBuilt = 0 #tracks number of towers built; says when to exit loop\n",
    "    finished = 0 \n",
    "    while finished == 0: #may be changed by different events to end loop\n",
    "        randTower = make_random_tower(mainPlot)\n",
    "        #generate a tower with random rectangular coverage\n",
    "        overlapFree = remove_overlap(randTower, mainPlot)\n",
    "        #remove parts of coverage already in the main plot\n",
    "        trimTower = get_largest_rectangle(overlapFree)\n",
    "        #find the largest rectangle in the remaining region\n",
    "        mainPlot += trimTower\n",
    "        #add the new coverage to the rest of the coverage\n",
    "        nBuilt += 1 #counting towers\n",
    "        if nBuilt == n and n != 0 \\\n",
    "           or np.sum(mainPlot) == totalArea:\n",
    "        #checking whether its reached n-towers or filled the whole plot\n",
    "            finished += 1\n",
    "        else:\n",
    "            pass\n",
    "    \n",
    "    if n == 0: #no number of towers given\n",
    "        assert isinstance(nBuilt, int) and nBuilt > 0\n",
    "        #The number of towers must be an integer 1 or greater\n",
    "        return nBuilt #return n towers built\n",
    "    else:\n",
    "        ratioCovered = np.sum(mainPlot) / float(totalArea)\n",
    "        assert 0 < ratioCovered <= 1\n",
    "        #The proportion of the area covered is between 0 and 1\n",
    "        return ( np.sum(mainPlot), round(ratioCovered, 2) )\n",
    "        #return tuple, number of 1s in the plot and\n",
    "        #the proportion of the area they cover (decimal)."
   ]
  },
  {
   "cell_type": "markdown",
   "metadata": {},
   "source": [
    "**How It Works**\n",
    "\n",
    "1. `assert`s that `L`, `W`, and `n` are all integers. `L` and `W` are positive and `n`  >= 0.\n",
    "2. Makes an empty plot with `plot_land()`.\n",
    "3. Start a while loop with an arbitrary exit condition.\n",
    "```python\n",
    "while finished == 0:\n",
    "```\n",
    "This frees the function to break after an arbitrary number of loops, since the number of towers that will fill the whole plot is not known beforehand.\n",
    "4. In the loop, make a random tower, trim it by its overlap with pre-existing coverage, and trim again to its largest rectangle. Uses `make_random_tower()`, `remove_overlap()`, and `get_largest_rectangle()` in that order.\n",
    "5. Add the processed tower coverage to the overall coverage plot by element-wise addition. Add one to the tower counter `nBuilt`.\n",
    "6. If n=0, return the current value of the tower counter. Otherwise, calculate the total area covered by taking the sum of all elements in the plot. Each covered node should have a value of 1, which translates to an area of 1 unit$^2$. Return a tuple containing the coverage area and the fraction of the total area covered."
   ]
  },
  {
   "cell_type": "markdown",
   "metadata": {},
   "source": [
    "___"
   ]
  },
  {
   "cell_type": "markdown",
   "metadata": {},
   "source": [
    "### `sample_towersToFill(L, W, n=100)`\n",
    "\n",
    "**Description:** Generates sample data of the number of towers placed to provide complete coverage a rectangular plot of land.\n",
    "\n",
    "**Additional Modules Called**\n",
    "- All preceding functions \\[`plot_land()`, `make_random_tower()`, `remove_overlap()`, `get_largest_rectangle()`, `plot_ntowers()`\\] must have been defined in the kernel.\n",
    "\n",
    "**Parameters**\n",
    "- **L:**\n",
    "    - *int, > 0*\n",
    "    - length of plot of land; translates into the number of rows in the array\n",
    "\n",
    "- **W:**\n",
    "    - *int, > 0*\n",
    "    - width of the plot of land; translates into the number of elements in each row\n",
    "- **n:**\n",
    "    - *int, > 0, default=100*\n",
    "    - The number of samples to be generated\n",
    "\n",
    "**Output**\n",
    "- *list, int*\n",
    "- A list of the total towers reuired to fill the plot for each trial."
   ]
  },
  {
   "cell_type": "markdown",
   "metadata": {},
   "source": [
    "**Code**"
   ]
  },
  {
   "cell_type": "code",
   "execution_count": 13,
   "metadata": {},
   "outputs": [],
   "source": [
    "def sample_towersToFill(L, W, n=100):\n",
    "    '''\n",
    "    To estimate the number of towers needed to fill a plot of land, this\n",
    "    function simulates the process of filling a plot up for n\n",
    "    repetitions.\n",
    "    \n",
    "    :@param L: int, length dimension of the plot\n",
    "    :@param W: int, width dimension of the plot\n",
    "    :@return: dict, results with the number of times they occurred\n",
    "    '''\n",
    "    \n",
    "    for funVars in [L, W, n]:\n",
    "        assert isinstance(funVars, int) and bool(funVars > 0), \\\n",
    "            \"%s must be a positive integer.\" % (funVars)\n",
    "        #All inputs must be positve integers\n",
    "    \n",
    "    resultList = [] #List of tower counts from filling the plot\n",
    "    for i in range(n):\n",
    "        resultList.append( plot_ntowers(L, W, 0) )\n",
    "        #append the result of filling the plot\n",
    "    \n",
    "    assert len(resultList) == n\n",
    "    #check that the right number of iterations was made\n",
    "    for result in resultList:\n",
    "        assert isinstance(result, int) and result > 0\n",
    "        #number of towers should be postive integer\n",
    "    \n",
    "    return resultList"
   ]
  },
  {
   "cell_type": "markdown",
   "metadata": {},
   "source": [
    "**How It Works**\n",
    "\n",
    "1. `assert` that all inputs are positive integers.\n",
    "2. Start a list to hold the results from each sample.\n",
    "3. Loop `n` times, each time calling the `plot_towers(L,W,0)` function and feeding it the plot dimensions. The '0' indicates that we are looking for the number of towers placed before the plot is completely covered.\n",
    "4. Check that we got all of the results we wanted and that they make sense (are positive integers). Returns the list of results."
   ]
  },
  {
   "cell_type": "markdown",
   "metadata": {},
   "source": [
    "### Using `sample_towersToFill()` to Find the Average Number of Towers Needed to Fill a Plot\n",
    "\n",
    "**Question:** On average, how many towers are needed to completely fill a rectangular plot?\n",
    "\n",
    "- `sample_towerToFill()` simulates the filling of the plot n times and reports the number of towers used each time.\n",
    "- This informs us of the distribution of the number of towers and relatively how often each result appears.\n",
    "- Finding the center of this distribution will give us an estimation of the average number of towers needed.\n",
    "- Below is an example where we attempt to estimate the towers needed for an 8-by-12-unit plot of land."
   ]
  },
  {
   "cell_type": "code",
   "execution_count": 17,
   "metadata": {},
   "outputs": [
    {
     "name": "stdout",
     "output_type": "stream",
     "text": [
      "[110, 29, 102, 68, 56, 46, 92, 75, 37, 49, '...']\n"
     ]
    }
   ],
   "source": [
    "towerSamples = sample_towersToFill(8, 12, 1000)\n",
    "#8 rows, 12 columns, fill 1000 times\n",
    "print towerSamples[0:10] + [\"...\"]\n",
    "#show first 10 items in list"
   ]
  },
  {
   "cell_type": "markdown",
   "metadata": {},
   "source": [
    "- Now that we have a list of samples, we can visualize our results.\n",
    "- Using `matplotlib.pyplot.hist()` will show the number of results that fall within a range of towers used."
   ]
  },
  {
   "cell_type": "code",
   "execution_count": 19,
   "metadata": {},
   "outputs": [
    {
     "data": {
      "image/png": "[encoded data removed]",
      "text/plain": [
       "<matplotlib.figure.Figure at 0x78cff28>"
      ]
     },
     "metadata": {},
     "output_type": "display_data"
    }
   ],
   "source": [
    "import matplotlib.pyplot as plt\n",
    "plt.hist(towerSamples, bins=25)\n",
    "#Split results into 25 bins\n",
    "plt.xlabel('Number of Towers Used to Fill Plot')\n",
    "plt.ylabel('Number of Samples')\n",
    "plt.title('Distribution of Towers for an 8x12 Plot')\n",
    "plt.grid(True)\n",
    "plt.show()"
   ]
  },
  {
   "cell_type": "markdown",
   "metadata": {},
   "source": [
    "- The histogram above shows that the distribution is somewhat bimodal --there are two peaks-- and heavily right-tailed --there are outliers much higher on the x-axis than the center.\n",
    "- Since this distribution is right-tailed, the center may be more accurately described by the median than the mean. Outliers have a strong effect on the mean, so even before calculation, we should expect the mean to be greeater than the median."
   ]
  },
  {
   "cell_type": "code",
   "execution_count": 22,
   "metadata": {},
   "outputs": [
    {
     "name": "stdout",
     "output_type": "stream",
     "text": [
      "This is the mean: 67.462\n",
      "This is the median: 61\n"
     ]
    }
   ],
   "source": [
    "towerSamples.sort() #sort the samples by increasing number\n",
    "print \"This is the mean: {}\".format( sum(towerSamples) / float(len(towerSamples)) )\n",
    "print \"This is the median: {}\".format(towerSamples[ len(towerSamples) / 2 ])"
   ]
  },
  {
   "cell_type": "markdown",
   "metadata": {},
   "source": [
    "**Conclusion:** I estimate that it normally requires around **61 towers** to completely cover an 8-by-12 unit plot. This is estimated by the median of a distribution of 1000 plot covering simulations. The mean is ignored as an over-estimate due to outliers to the right."
   ]
  },
  {
   "cell_type": "code",
   "execution_count": null,
   "metadata": {},
   "outputs": [],
   "source": []
  }
 ],
 "metadata": {
  "kernelspec": {
   "display_name": "Python 2",
   "language": "python",
   "name": "python2"
  },
  "language_info": {
   "codemirror_mode": {
    "name": "ipython",
    "version": 2
   },
   "file_extension": ".py",
   "mimetype": "text/x-python",
   "name": "python",
   "nbconvert_exporter": "python",
   "pygments_lexer": "ipython2",
   "version": "2.7.14"
  }
 },
 "nbformat": 4,
 "nbformat_minor": 2
}
