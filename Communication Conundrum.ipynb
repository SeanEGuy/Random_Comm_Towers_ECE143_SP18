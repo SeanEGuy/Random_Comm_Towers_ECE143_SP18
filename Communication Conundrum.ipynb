{
 "cells": [
  {
   "cell_type": "markdown",
   "metadata": {},
   "source": [
    "# Background"
   ]
  },
  {
   "cell_type": "markdown",
   "metadata": {},
   "source": [
    "**Scenario**: A series of communication towers are being built. How will coverage improve?\n",
    "\n",
    "**Main Assumptions**:\n",
    "\n",
    "- The plot of land is a flat rectangle whose dimensions can be described by integer units.\n",
    "- Each tower is placed randomly and has a random range of coverage.\n",
    "- Each tower's coverage is also rectangular and has integer dimensions of the same uints.\n",
    "- If a tower is placed and overlaps a pre-existing tower's coverage, the new tower's coverage is reduced to its largest rectangle outside of the already covered range.\n",
    "\n"
   ]
  },
  {
   "cell_type": "markdown",
   "metadata": {},
   "source": [
    "**Programming Goals**\n",
    "1. Given a plot of land and a set number of towers, simulate the placement of towers and calculate their coverage.\n",
    "2. Given a plot of land, calculate the average number of towers necessary to completely cover the plot."
   ]
  },
  {
   "cell_type": "markdown",
   "metadata": {},
   "source": [
    "# `commtower.py` Module Overview"
   ]
  },
  {
   "cell_type": "markdown",
   "metadata": {},
   "source": [
    "#### `commtower.plot_land(L,W)`"
   ]
  },
  {
   "cell_type": "markdown",
   "metadata": {},
   "source": [
    "Description: Generates a two-dimensional array of zeros of specified dimensions\n",
    "\n",
    "**Module Required**:\n",
    "- `numpy`, used to generate the array\n",
    "\n",
    "**Inputs**\n",
    "- *L* : type int >0, length of plot of land; translates into the number of rows in the array\n",
    "- *W* : type int >0, width of the plot of land; translates into the number of elements in each row\n",
    "\n",
    "**Output**\n",
    "- Numpy array of L*\\W zeros (32-bit integers) arranged in L rows and W columns.\n",
    "- 0 represents a 1 unit^2 sized area of land with no tower coverage. A non-zero value would indicate coverage.\n",
    "- This is important for establishing a starting point of the plot without any coverage and can be done iteratively if simulating the complete coverage process."
   ]
  },
  {
   "cell_type": "markdown",
   "metadata": {},
   "source": [
    "**Example:**"
   ]
  },
  {
   "cell_type": "code",
   "execution_count": 2,
   "metadata": {},
   "outputs": [
    {
     "ename": "IndentationError",
     "evalue": "expected an indented block (commtower.py, line 314)",
     "output_type": "error",
     "traceback": [
      "\u001b[1;36m  File \u001b[1;32m\"commtower.py\"\u001b[1;36m, line \u001b[1;32m314\u001b[0m\n\u001b[1;33m    assert isinstance(funVars, int) and bool(l > 0), \\\u001b[0m\n\u001b[1;37m         ^\u001b[0m\n\u001b[1;31mIndentationError\u001b[0m\u001b[1;31m:\u001b[0m expected an indented block\n"
     ]
    }
   ],
   "source": [
    "import commtower as ct\n",
    "myland = ct.plot_land(3,5) #generate an empty plot with no coverage\n",
    "myland"
   ]
  },
  {
   "cell_type": "code",
   "execution_count": 1,
   "metadata": {},
   "outputs": [
    {
     "ename": "NameError",
     "evalue": "name 'myland' is not defined",
     "output_type": "error",
     "traceback": [
      "\u001b[1;31m\u001b[0m",
      "\u001b[1;31mNameError\u001b[0mTraceback (most recent call last)",
      "\u001b[1;32m<ipython-input-1-b189ca4038e7>\u001b[0m in \u001b[0;36m<module>\u001b[1;34m()\u001b[0m\n\u001b[0;32m      3\u001b[0m \u001b[1;33m\u001b[0m\u001b[0m\n\u001b[0;32m      4\u001b[0m \u001b[0mplt\u001b[0m\u001b[1;33m.\u001b[0m\u001b[0msubplot\u001b[0m\u001b[1;33m(\u001b[0m\u001b[1;36m111\u001b[0m\u001b[1;33m)\u001b[0m\u001b[1;33m\u001b[0m\u001b[0m\n\u001b[1;32m----> 5\u001b[1;33m \u001b[0mplt\u001b[0m\u001b[1;33m.\u001b[0m\u001b[0mimshow\u001b[0m\u001b[1;33m(\u001b[0m\u001b[0mmyland\u001b[0m\u001b[1;33m,\u001b[0m \u001b[0maspect\u001b[0m\u001b[1;33m=\u001b[0m\u001b[1;34m'equal'\u001b[0m\u001b[1;33m)\u001b[0m\u001b[1;33m\u001b[0m\u001b[0m\n\u001b[0m\u001b[0;32m      6\u001b[0m \u001b[1;33m\u001b[0m\u001b[0m\n\u001b[0;32m      7\u001b[0m \u001b[0mplt\u001b[0m\u001b[1;33m.\u001b[0m\u001b[0mshow\u001b[0m\u001b[1;33m(\u001b[0m\u001b[1;33m)\u001b[0m\u001b[1;33m\u001b[0m\u001b[0m\n",
      "\u001b[1;31mNameError\u001b[0m: name 'myland' is not defined"
     ]
    }
   ],
   "source": [
    "import matplotlib.pyplot as plt\n",
    "import numpy as np\n",
    "\n",
    "plt.subplot(111)\n",
    "plt.imshow(myland, aspect='equal')\n",
    "\n",
    "plt.show()\n",
    "plt.close()"
   ]
  },
  {
   "cell_type": "code",
   "execution_count": null,
   "metadata": {},
   "outputs": [],
   "source": []
  }
 ],
 "metadata": {
  "kernelspec": {
   "display_name": "Python 2",
   "language": "python",
   "name": "python2"
  },
  "language_info": {
   "codemirror_mode": {
    "name": "ipython",
    "version": 2
   },
   "file_extension": ".py",
   "mimetype": "text/x-python",
   "name": "python",
   "nbconvert_exporter": "python",
   "pygments_lexer": "ipython2",
   "version": "2.7.14"
  }
 },
 "nbformat": 4,
 "nbformat_minor": 2
}
